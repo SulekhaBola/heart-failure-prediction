{
 "cells": [
  {
   "cell_type": "code",
   "execution_count": 1,
   "id": "fd5e32a0",
   "metadata": {},
   "outputs": [],
   "source": [
    "import pandas as pd\n",
    "import numpy as np"
   ]
  },
  {
   "cell_type": "code",
   "execution_count": 2,
   "id": "64544651",
   "metadata": {},
   "outputs": [
    {
     "name": "stdout",
     "output_type": "stream",
     "text": [
      "     age  sex  cp  trtbps  chol  fbs  restecg  thalachh  exng  oldpeak  slp  \\\n",
      "0     63    1   3     145   233    1        0       150     0      2.3    0   \n",
      "1     37    1   2     130   250    0        1       187     0      3.5    0   \n",
      "2     41    0   1     130   204    0        0       172     0      1.4    2   \n",
      "3     56    1   1     120   236    0        1       178     0      0.8    2   \n",
      "4     57    0   0     120   354    0        1       163     1      0.6    2   \n",
      "..   ...  ...  ..     ...   ...  ...      ...       ...   ...      ...  ...   \n",
      "298   57    0   0     140   241    0        1       123     1      0.2    1   \n",
      "299   45    1   3     110   264    0        1       132     0      1.2    1   \n",
      "300   68    1   0     144   193    1        1       141     0      3.4    1   \n",
      "301   57    1   0     130   131    0        1       115     1      1.2    1   \n",
      "302   57    0   1     130   236    0        0       174     0      0.0    1   \n",
      "\n",
      "     caa  thall  output  \n",
      "0      0      1       1  \n",
      "1      0      2       1  \n",
      "2      0      2       1  \n",
      "3      0      2       1  \n",
      "4      0      2       1  \n",
      "..   ...    ...     ...  \n",
      "298    0      3       0  \n",
      "299    0      3       0  \n",
      "300    2      3       0  \n",
      "301    1      3       0  \n",
      "302    1      2       0  \n",
      "\n",
      "[303 rows x 14 columns]\n"
     ]
    }
   ],
   "source": [
    "data = pd.read_csv('Logistic\\Heart attack prediction\\heart.csv')\n",
    "print(data)"
   ]
  },
  {
   "cell_type": "code",
   "execution_count": 3,
   "id": "28879c49",
   "metadata": {},
   "outputs": [
    {
     "name": "stdout",
     "output_type": "stream",
     "text": [
      "<class 'pandas.core.frame.DataFrame'>\n",
      "RangeIndex: 303 entries, 0 to 302\n",
      "Data columns (total 14 columns):\n",
      " #   Column    Non-Null Count  Dtype  \n",
      "---  ------    --------------  -----  \n",
      " 0   age       303 non-null    int64  \n",
      " 1   sex       303 non-null    int64  \n",
      " 2   cp        303 non-null    int64  \n",
      " 3   trtbps    303 non-null    int64  \n",
      " 4   chol      303 non-null    int64  \n",
      " 5   fbs       303 non-null    int64  \n",
      " 6   restecg   303 non-null    int64  \n",
      " 7   thalachh  303 non-null    int64  \n",
      " 8   exng      303 non-null    int64  \n",
      " 9   oldpeak   303 non-null    float64\n",
      " 10  slp       303 non-null    int64  \n",
      " 11  caa       303 non-null    int64  \n",
      " 12  thall     303 non-null    int64  \n",
      " 13  output    303 non-null    int64  \n",
      "dtypes: float64(1), int64(13)\n",
      "memory usage: 33.3 KB\n",
      "None\n"
     ]
    }
   ],
   "source": [
    "print(data.info())"
   ]
  },
  {
   "cell_type": "code",
   "execution_count": 4,
   "id": "bb4de4c0",
   "metadata": {
    "scrolled": false
   },
   "outputs": [
    {
     "data": {
      "text/html": [
       "<div>\n",
       "<style scoped>\n",
       "    .dataframe tbody tr th:only-of-type {\n",
       "        vertical-align: middle;\n",
       "    }\n",
       "\n",
       "    .dataframe tbody tr th {\n",
       "        vertical-align: top;\n",
       "    }\n",
       "\n",
       "    .dataframe thead th {\n",
       "        text-align: right;\n",
       "    }\n",
       "</style>\n",
       "<table border=\"1\" class=\"dataframe\">\n",
       "  <thead>\n",
       "    <tr style=\"text-align: right;\">\n",
       "      <th></th>\n",
       "      <th>age</th>\n",
       "      <th>sex</th>\n",
       "      <th>cp</th>\n",
       "      <th>trtbps</th>\n",
       "      <th>chol</th>\n",
       "      <th>fbs</th>\n",
       "      <th>restecg</th>\n",
       "      <th>thalachh</th>\n",
       "      <th>exng</th>\n",
       "      <th>oldpeak</th>\n",
       "      <th>slp</th>\n",
       "      <th>caa</th>\n",
       "      <th>thall</th>\n",
       "      <th>output</th>\n",
       "    </tr>\n",
       "  </thead>\n",
       "  <tbody>\n",
       "    <tr>\n",
       "      <th>count</th>\n",
       "      <td>303.000000</td>\n",
       "      <td>303.000000</td>\n",
       "      <td>303.000000</td>\n",
       "      <td>303.000000</td>\n",
       "      <td>303.000000</td>\n",
       "      <td>303.000000</td>\n",
       "      <td>303.000000</td>\n",
       "      <td>303.000000</td>\n",
       "      <td>303.000000</td>\n",
       "      <td>303.000000</td>\n",
       "      <td>303.000000</td>\n",
       "      <td>303.000000</td>\n",
       "      <td>303.000000</td>\n",
       "      <td>303.000000</td>\n",
       "    </tr>\n",
       "    <tr>\n",
       "      <th>mean</th>\n",
       "      <td>54.366337</td>\n",
       "      <td>0.683168</td>\n",
       "      <td>0.966997</td>\n",
       "      <td>131.623762</td>\n",
       "      <td>246.264026</td>\n",
       "      <td>0.148515</td>\n",
       "      <td>0.528053</td>\n",
       "      <td>149.646865</td>\n",
       "      <td>0.326733</td>\n",
       "      <td>1.039604</td>\n",
       "      <td>1.399340</td>\n",
       "      <td>0.729373</td>\n",
       "      <td>2.313531</td>\n",
       "      <td>0.544554</td>\n",
       "    </tr>\n",
       "    <tr>\n",
       "      <th>std</th>\n",
       "      <td>9.082101</td>\n",
       "      <td>0.466011</td>\n",
       "      <td>1.032052</td>\n",
       "      <td>17.538143</td>\n",
       "      <td>51.830751</td>\n",
       "      <td>0.356198</td>\n",
       "      <td>0.525860</td>\n",
       "      <td>22.905161</td>\n",
       "      <td>0.469794</td>\n",
       "      <td>1.161075</td>\n",
       "      <td>0.616226</td>\n",
       "      <td>1.022606</td>\n",
       "      <td>0.612277</td>\n",
       "      <td>0.498835</td>\n",
       "    </tr>\n",
       "    <tr>\n",
       "      <th>min</th>\n",
       "      <td>29.000000</td>\n",
       "      <td>0.000000</td>\n",
       "      <td>0.000000</td>\n",
       "      <td>94.000000</td>\n",
       "      <td>126.000000</td>\n",
       "      <td>0.000000</td>\n",
       "      <td>0.000000</td>\n",
       "      <td>71.000000</td>\n",
       "      <td>0.000000</td>\n",
       "      <td>0.000000</td>\n",
       "      <td>0.000000</td>\n",
       "      <td>0.000000</td>\n",
       "      <td>0.000000</td>\n",
       "      <td>0.000000</td>\n",
       "    </tr>\n",
       "    <tr>\n",
       "      <th>25%</th>\n",
       "      <td>47.500000</td>\n",
       "      <td>0.000000</td>\n",
       "      <td>0.000000</td>\n",
       "      <td>120.000000</td>\n",
       "      <td>211.000000</td>\n",
       "      <td>0.000000</td>\n",
       "      <td>0.000000</td>\n",
       "      <td>133.500000</td>\n",
       "      <td>0.000000</td>\n",
       "      <td>0.000000</td>\n",
       "      <td>1.000000</td>\n",
       "      <td>0.000000</td>\n",
       "      <td>2.000000</td>\n",
       "      <td>0.000000</td>\n",
       "    </tr>\n",
       "    <tr>\n",
       "      <th>50%</th>\n",
       "      <td>55.000000</td>\n",
       "      <td>1.000000</td>\n",
       "      <td>1.000000</td>\n",
       "      <td>130.000000</td>\n",
       "      <td>240.000000</td>\n",
       "      <td>0.000000</td>\n",
       "      <td>1.000000</td>\n",
       "      <td>153.000000</td>\n",
       "      <td>0.000000</td>\n",
       "      <td>0.800000</td>\n",
       "      <td>1.000000</td>\n",
       "      <td>0.000000</td>\n",
       "      <td>2.000000</td>\n",
       "      <td>1.000000</td>\n",
       "    </tr>\n",
       "    <tr>\n",
       "      <th>75%</th>\n",
       "      <td>61.000000</td>\n",
       "      <td>1.000000</td>\n",
       "      <td>2.000000</td>\n",
       "      <td>140.000000</td>\n",
       "      <td>274.500000</td>\n",
       "      <td>0.000000</td>\n",
       "      <td>1.000000</td>\n",
       "      <td>166.000000</td>\n",
       "      <td>1.000000</td>\n",
       "      <td>1.600000</td>\n",
       "      <td>2.000000</td>\n",
       "      <td>1.000000</td>\n",
       "      <td>3.000000</td>\n",
       "      <td>1.000000</td>\n",
       "    </tr>\n",
       "    <tr>\n",
       "      <th>max</th>\n",
       "      <td>77.000000</td>\n",
       "      <td>1.000000</td>\n",
       "      <td>3.000000</td>\n",
       "      <td>200.000000</td>\n",
       "      <td>564.000000</td>\n",
       "      <td>1.000000</td>\n",
       "      <td>2.000000</td>\n",
       "      <td>202.000000</td>\n",
       "      <td>1.000000</td>\n",
       "      <td>6.200000</td>\n",
       "      <td>2.000000</td>\n",
       "      <td>4.000000</td>\n",
       "      <td>3.000000</td>\n",
       "      <td>1.000000</td>\n",
       "    </tr>\n",
       "  </tbody>\n",
       "</table>\n",
       "</div>"
      ],
      "text/plain": [
       "              age         sex          cp      trtbps        chol         fbs  \\\n",
       "count  303.000000  303.000000  303.000000  303.000000  303.000000  303.000000   \n",
       "mean    54.366337    0.683168    0.966997  131.623762  246.264026    0.148515   \n",
       "std      9.082101    0.466011    1.032052   17.538143   51.830751    0.356198   \n",
       "min     29.000000    0.000000    0.000000   94.000000  126.000000    0.000000   \n",
       "25%     47.500000    0.000000    0.000000  120.000000  211.000000    0.000000   \n",
       "50%     55.000000    1.000000    1.000000  130.000000  240.000000    0.000000   \n",
       "75%     61.000000    1.000000    2.000000  140.000000  274.500000    0.000000   \n",
       "max     77.000000    1.000000    3.000000  200.000000  564.000000    1.000000   \n",
       "\n",
       "          restecg    thalachh        exng     oldpeak         slp         caa  \\\n",
       "count  303.000000  303.000000  303.000000  303.000000  303.000000  303.000000   \n",
       "mean     0.528053  149.646865    0.326733    1.039604    1.399340    0.729373   \n",
       "std      0.525860   22.905161    0.469794    1.161075    0.616226    1.022606   \n",
       "min      0.000000   71.000000    0.000000    0.000000    0.000000    0.000000   \n",
       "25%      0.000000  133.500000    0.000000    0.000000    1.000000    0.000000   \n",
       "50%      1.000000  153.000000    0.000000    0.800000    1.000000    0.000000   \n",
       "75%      1.000000  166.000000    1.000000    1.600000    2.000000    1.000000   \n",
       "max      2.000000  202.000000    1.000000    6.200000    2.000000    4.000000   \n",
       "\n",
       "            thall      output  \n",
       "count  303.000000  303.000000  \n",
       "mean     2.313531    0.544554  \n",
       "std      0.612277    0.498835  \n",
       "min      0.000000    0.000000  \n",
       "25%      2.000000    0.000000  \n",
       "50%      2.000000    1.000000  \n",
       "75%      3.000000    1.000000  \n",
       "max      3.000000    1.000000  "
      ]
     },
     "execution_count": 4,
     "metadata": {},
     "output_type": "execute_result"
    }
   ],
   "source": [
    "data.describe()"
   ]
  },
  {
   "cell_type": "code",
   "execution_count": 5,
   "id": "65c3f637",
   "metadata": {
    "scrolled": true
   },
   "outputs": [
    {
     "name": "stderr",
     "output_type": "stream",
     "text": [
      "C:\\Users\\Rohan\\AppData\\Local\\Temp\\ipykernel_12552\\551769126.py:1: FutureWarning: In a future version of pandas all arguments of DataFrame.drop except for the argument 'labels' will be keyword-only.\n",
      "  x = data.drop(['age', 'sex', 'output'], 'columns')\n",
      "C:\\Users\\Rohan\\AppData\\Local\\Temp\\ipykernel_12552\\551769126.py:2: FutureWarning: In a future version of pandas all arguments of DataFrame.drop except for the argument 'labels' will be keyword-only.\n",
      "  y = data.drop(['age','sex','cp','trtbps','chol','fbs','restecg','thalachh','exng','oldpeak','slp','caa','thall'], 'columns')\n"
     ]
    }
   ],
   "source": [
    "x = data.drop(['age', 'sex', 'output'], 'columns')\n",
    "y = data.drop(['age','sex','cp','trtbps','chol','fbs','restecg','thalachh','exng','oldpeak','slp','caa','thall'], 'columns')"
   ]
  },
  {
   "cell_type": "code",
   "execution_count": 6,
   "id": "5024f678",
   "metadata": {
    "scrolled": true
   },
   "outputs": [
    {
     "name": "stdout",
     "output_type": "stream",
     "text": [
      "     cp  trtbps  chol  fbs  restecg  thalachh  exng  oldpeak  slp  caa  thall\n",
      "0     3     145   233    1        0       150     0      2.3    0    0      1\n",
      "1     2     130   250    0        1       187     0      3.5    0    0      2\n",
      "2     1     130   204    0        0       172     0      1.4    2    0      2\n",
      "3     1     120   236    0        1       178     0      0.8    2    0      2\n",
      "4     0     120   354    0        1       163     1      0.6    2    0      2\n",
      "..   ..     ...   ...  ...      ...       ...   ...      ...  ...  ...    ...\n",
      "298   0     140   241    0        1       123     1      0.2    1    0      3\n",
      "299   3     110   264    0        1       132     0      1.2    1    0      3\n",
      "300   0     144   193    1        1       141     0      3.4    1    2      3\n",
      "301   0     130   131    0        1       115     1      1.2    1    1      3\n",
      "302   1     130   236    0        0       174     0      0.0    1    1      2\n",
      "\n",
      "[303 rows x 11 columns]\n",
      "     output\n",
      "0         1\n",
      "1         1\n",
      "2         1\n",
      "3         1\n",
      "4         1\n",
      "..      ...\n",
      "298       0\n",
      "299       0\n",
      "300       0\n",
      "301       0\n",
      "302       0\n",
      "\n",
      "[303 rows x 1 columns]\n"
     ]
    }
   ],
   "source": [
    "print(x)\n",
    "print(y)"
   ]
  },
  {
   "cell_type": "code",
   "execution_count": 7,
   "id": "d6003daa",
   "metadata": {},
   "outputs": [],
   "source": [
    "from sklearn.model_selection import train_test_split\n",
    "x_train, x_test, y_train, y_test = train_test_split(x, y, random_state = 1)"
   ]
  },
  {
   "cell_type": "code",
   "execution_count": 8,
   "id": "d555d5ca",
   "metadata": {},
   "outputs": [],
   "source": [
    "from sklearn.preprocessing import StandardScaler\n",
    "sc = StandardScaler()\n",
    "x_train = sc.fit_transform(x_train)\n",
    "x_test = sc.transform(x_test)"
   ]
  },
  {
   "cell_type": "code",
   "execution_count": 9,
   "id": "e76b4556",
   "metadata": {},
   "outputs": [
    {
     "name": "stderr",
     "output_type": "stream",
     "text": [
      "c:\\Users\\Rohan\\AppData\\Local\\Programs\\Python\\Python310\\lib\\site-packages\\sklearn\\utils\\validation.py:1111: DataConversionWarning: A column-vector y was passed when a 1d array was expected. Please change the shape of y to (n_samples, ), for example using ravel().\n",
      "  y = column_or_1d(y, warn=True)\n"
     ]
    },
    {
     "data": {
      "text/html": [
       "<style>#sk-container-id-1 {color: black;background-color: white;}#sk-container-id-1 pre{padding: 0;}#sk-container-id-1 div.sk-toggleable {background-color: white;}#sk-container-id-1 label.sk-toggleable__label {cursor: pointer;display: block;width: 100%;margin-bottom: 0;padding: 0.3em;box-sizing: border-box;text-align: center;}#sk-container-id-1 label.sk-toggleable__label-arrow:before {content: \"▸\";float: left;margin-right: 0.25em;color: #696969;}#sk-container-id-1 label.sk-toggleable__label-arrow:hover:before {color: black;}#sk-container-id-1 div.sk-estimator:hover label.sk-toggleable__label-arrow:before {color: black;}#sk-container-id-1 div.sk-toggleable__content {max-height: 0;max-width: 0;overflow: hidden;text-align: left;background-color: #f0f8ff;}#sk-container-id-1 div.sk-toggleable__content pre {margin: 0.2em;color: black;border-radius: 0.25em;background-color: #f0f8ff;}#sk-container-id-1 input.sk-toggleable__control:checked~div.sk-toggleable__content {max-height: 200px;max-width: 100%;overflow: auto;}#sk-container-id-1 input.sk-toggleable__control:checked~label.sk-toggleable__label-arrow:before {content: \"▾\";}#sk-container-id-1 div.sk-estimator input.sk-toggleable__control:checked~label.sk-toggleable__label {background-color: #d4ebff;}#sk-container-id-1 div.sk-label input.sk-toggleable__control:checked~label.sk-toggleable__label {background-color: #d4ebff;}#sk-container-id-1 input.sk-hidden--visually {border: 0;clip: rect(1px 1px 1px 1px);clip: rect(1px, 1px, 1px, 1px);height: 1px;margin: -1px;overflow: hidden;padding: 0;position: absolute;width: 1px;}#sk-container-id-1 div.sk-estimator {font-family: monospace;background-color: #f0f8ff;border: 1px dotted black;border-radius: 0.25em;box-sizing: border-box;margin-bottom: 0.5em;}#sk-container-id-1 div.sk-estimator:hover {background-color: #d4ebff;}#sk-container-id-1 div.sk-parallel-item::after {content: \"\";width: 100%;border-bottom: 1px solid gray;flex-grow: 1;}#sk-container-id-1 div.sk-label:hover label.sk-toggleable__label {background-color: #d4ebff;}#sk-container-id-1 div.sk-serial::before {content: \"\";position: absolute;border-left: 1px solid gray;box-sizing: border-box;top: 0;bottom: 0;left: 50%;z-index: 0;}#sk-container-id-1 div.sk-serial {display: flex;flex-direction: column;align-items: center;background-color: white;padding-right: 0.2em;padding-left: 0.2em;position: relative;}#sk-container-id-1 div.sk-item {position: relative;z-index: 1;}#sk-container-id-1 div.sk-parallel {display: flex;align-items: stretch;justify-content: center;background-color: white;position: relative;}#sk-container-id-1 div.sk-item::before, #sk-container-id-1 div.sk-parallel-item::before {content: \"\";position: absolute;border-left: 1px solid gray;box-sizing: border-box;top: 0;bottom: 0;left: 50%;z-index: -1;}#sk-container-id-1 div.sk-parallel-item {display: flex;flex-direction: column;z-index: 1;position: relative;background-color: white;}#sk-container-id-1 div.sk-parallel-item:first-child::after {align-self: flex-end;width: 50%;}#sk-container-id-1 div.sk-parallel-item:last-child::after {align-self: flex-start;width: 50%;}#sk-container-id-1 div.sk-parallel-item:only-child::after {width: 0;}#sk-container-id-1 div.sk-dashed-wrapped {border: 1px dashed gray;margin: 0 0.4em 0.5em 0.4em;box-sizing: border-box;padding-bottom: 0.4em;background-color: white;}#sk-container-id-1 div.sk-label label {font-family: monospace;font-weight: bold;display: inline-block;line-height: 1.2em;}#sk-container-id-1 div.sk-label-container {text-align: center;}#sk-container-id-1 div.sk-container {/* jupyter's `normalize.less` sets `[hidden] { display: none; }` but bootstrap.min.css set `[hidden] { display: none !important; }` so we also need the `!important` here to be able to override the default hidden behavior on the sphinx rendered scikit-learn.org. See: https://github.com/scikit-learn/scikit-learn/issues/21755 */display: inline-block !important;position: relative;}#sk-container-id-1 div.sk-text-repr-fallback {display: none;}</style><div id=\"sk-container-id-1\" class=\"sk-top-container\"><div class=\"sk-text-repr-fallback\"><pre>SVC()</pre><b>In a Jupyter environment, please rerun this cell to show the HTML representation or trust the notebook. <br />On GitHub, the HTML representation is unable to render, please try loading this page with nbviewer.org.</b></div><div class=\"sk-container\" hidden><div class=\"sk-item\"><div class=\"sk-estimator sk-toggleable\"><input class=\"sk-toggleable__control sk-hidden--visually\" id=\"sk-estimator-id-1\" type=\"checkbox\" checked><label for=\"sk-estimator-id-1\" class=\"sk-toggleable__label sk-toggleable__label-arrow\">SVC</label><div class=\"sk-toggleable__content\"><pre>SVC()</pre></div></div></div></div></div>"
      ],
      "text/plain": [
       "SVC()"
      ]
     },
     "execution_count": 9,
     "metadata": {},
     "output_type": "execute_result"
    }
   ],
   "source": [
    "from sklearn.svm import SVC\n",
    "model = SVC()\n",
    "model.fit(x_train, y_train)"
   ]
  },
  {
   "cell_type": "code",
   "execution_count": 10,
   "id": "63d036fb",
   "metadata": {},
   "outputs": [],
   "source": [
    "y_pred = model.predict(x_test)"
   ]
  },
  {
   "cell_type": "code",
   "execution_count": 11,
   "id": "b5ba1716",
   "metadata": {},
   "outputs": [
    {
     "name": "stdout",
     "output_type": "stream",
     "text": [
      "[[25 10]\n",
      " [ 9 32]]\n",
      "0.75\n"
     ]
    }
   ],
   "source": [
    "from sklearn.metrics import confusion_matrix, accuracy_score\n",
    "print(confusion_matrix(y_test, y_pred))\n",
    "print(accuracy_score(y_test, y_pred))"
   ]
  },
  {
   "cell_type": "code",
   "execution_count": 14,
   "id": "6caf9c66",
   "metadata": {
    "scrolled": true
   },
   "outputs": [
    {
     "name": "stdout",
     "output_type": "stream",
     "text": [
      "[0]\n"
     ]
    },
    {
     "name": "stderr",
     "output_type": "stream",
     "text": [
      "c:\\Users\\Rohan\\AppData\\Local\\Programs\\Python\\Python310\\lib\\site-packages\\sklearn\\base.py:450: UserWarning: X does not have valid feature names, but StandardScaler was fitted with feature names\n",
      "  warnings.warn(\n"
     ]
    }
   ],
   "source": [
    "print(model.predict(sc.transform([[3,145,233,1,0,150,0,2.3,0,0,11]])))"
   ]
  },
  {
   "cell_type": "code",
   "execution_count": 16,
   "id": "6d5badc6",
   "metadata": {},
   "outputs": [
    {
     "ename": "SystemExit",
     "evalue": "0",
     "output_type": "error",
     "traceback": [
      "An exception has occurred, use %tb to see the full traceback.\n",
      "\u001b[1;31mSystemExit\u001b[0m\u001b[1;31m:\u001b[0m 0\n"
     ]
    },
    {
     "name": "stderr",
     "output_type": "stream",
     "text": [
      "C:\\Users\\Rohan\\AppData\\Roaming\\Python\\Python310\\site-packages\\IPython\\core\\interactiveshell.py:3386: UserWarning: To exit: use 'exit', 'quit', or Ctrl-D.\n",
      "  warn(\"To exit: use 'exit', 'quit', or Ctrl-D.\", stacklevel=1)\n"
     ]
    }
   ],
   "source": [
    "from PyQt5 import QtCore, QtGui, QtWidgets\n",
    "\n",
    "class Ui_Form(object):\n",
    "    def setupUi(self, Form):\n",
    "        Form.setObjectName(\"Form\")\n",
    "        Form.resize(796, 803)\n",
    "        self.widget = QtWidgets.QWidget(Form)\n",
    "        self.widget.setGeometry(QtCore.QRect(0, 0, 801, 861))\n",
    "        self.widget.setStyleSheet(\"QWidget#widget{background-color:qradialgradient(spread:pad, cx:0.5, cy:0.5, radius:1.908, fx:0.504975, fy:0.506, stop:0 rgba(168, 218, 220, 255), stop:1 rgba(255, 255, 255, 255))}\")\n",
    "        self.widget.setObjectName(\"widget\")\n",
    "        self.widget_2 = QtWidgets.QWidget(self.widget)\n",
    "        self.widget_2.setGeometry(QtCore.QRect(90, 140, 621, 551))\n",
    "        self.widget_2.setStyleSheet(\"QWidget#widget_2{background-color: qradialgradient(spread:pad, cx:0.5, cy:0.5, radius:1.908, fx:0.504975, fy:0.506, stop:0 rgba(29, 53, 87, 255), stop:1 rgba(255, 255, 255, 255));\\n\"\n",
    "\"border-radius:20%;\\n\"\n",
    "\"}\")\n",
    "        self.widget_2.setObjectName(\"widget_2\")\n",
    "        self.label_2 = QtWidgets.QLabel(self.widget_2)\n",
    "        self.label_2.setGeometry(QtCore.QRect(130, 30, 231, 31))\n",
    "        self.label_2.setStyleSheet(\"font: 16pt \\\"MS Shell Dlg 2\\\";\\n\"\n",
    "\"color:rgb(241, 250, 238)\")\n",
    "        self.label_2.setObjectName(\"label_2\")\n",
    "        self.RestingBP = QtWidgets.QLineEdit(self.widget_2)\n",
    "        self.RestingBP.setGeometry(QtCore.QRect(350, 80, 121, 31))\n",
    "        self.RestingBP.setObjectName(\"RestingBP\")\n",
    "        self.label_3 = QtWidgets.QLabel(self.widget_2)\n",
    "        self.label_3.setGeometry(QtCore.QRect(130, 80, 171, 31))\n",
    "        self.label_3.setStyleSheet(\"font: 16pt \\\"MS Shell Dlg 2\\\";\\n\"\n",
    "\"color:rgb(241, 250, 238)\")\n",
    "        self.label_3.setObjectName(\"label_3\")\n",
    "        self.label_4 = QtWidgets.QLabel(self.widget_2)\n",
    "        self.label_4.setGeometry(QtCore.QRect(130, 130, 161, 31))\n",
    "        self.label_4.setStyleSheet(\"font: 16pt \\\"MS Shell Dlg 2\\\";\\n\"\n",
    "\"color:rgb(241, 250, 238)\")\n",
    "        self.label_4.setObjectName(\"label_4\")\n",
    "        self.label_5 = QtWidgets.QLabel(self.widget_2)\n",
    "        self.label_5.setGeometry(QtCore.QRect(130, 180, 151, 31))\n",
    "        self.label_5.setStyleSheet(\"font: 16pt \\\"MS Shell Dlg 2\\\";\\n\"\n",
    "\"color:rgb(241, 250, 238)\")\n",
    "        self.label_5.setObjectName(\"label_5\")\n",
    "        self.label_6 = QtWidgets.QLabel(self.widget_2)\n",
    "        self.label_6.setGeometry(QtCore.QRect(130, 230, 191, 31))\n",
    "        self.label_6.setStyleSheet(\"font: 16pt \\\"MS Shell Dlg 2\\\";\\n\"\n",
    "\"color:rgb(241, 250, 238)\")\n",
    "        self.label_6.setObjectName(\"label_6\")\n",
    "        self.label_7 = QtWidgets.QLabel(self.widget_2)\n",
    "        self.label_7.setGeometry(QtCore.QRect(130, 270, 171, 41))\n",
    "        self.label_7.setStyleSheet(\"font: 16pt \\\"MS Shell Dlg 2\\\";\\n\"\n",
    "\"color:rgb(241, 250, 238)\")\n",
    "        self.label_7.setObjectName(\"label_7\")\n",
    "        self.label_8 = QtWidgets.QLabel(self.widget_2)\n",
    "        self.label_8.setGeometry(QtCore.QRect(130, 330, 281, 31))\n",
    "        self.label_8.setStyleSheet(\"font: 16pt \\\"MS Shell Dlg 2\\\";\\n\"\n",
    "\"color:rgb(241, 250, 238)\")\n",
    "        self.label_8.setObjectName(\"label_8\")\n",
    "        self.label_9 = QtWidgets.QLabel(self.widget_2)\n",
    "        self.label_9.setGeometry(QtCore.QRect(130, 380, 151, 31))\n",
    "        self.label_9.setStyleSheet(\"font: 16pt \\\"MS Shell Dlg 2\\\";\\n\"\n",
    "\"color:rgb(241, 250, 238)\")\n",
    "        self.label_9.setObjectName(\"label_9\")\n",
    "        self.label_10 = QtWidgets.QLabel(self.widget_2)\n",
    "        self.label_10.setGeometry(QtCore.QRect(130, 430, 131, 31))\n",
    "        self.label_10.setStyleSheet(\"font: 16pt \\\"MS Shell Dlg 2\\\";\\n\"\n",
    "\"color:rgb(241, 250, 238)\")\n",
    "        self.label_10.setObjectName(\"label_10\")\n",
    "        self.Cholesterol = QtWidgets.QLineEdit(self.widget_2)\n",
    "        self.Cholesterol.setGeometry(QtCore.QRect(350, 130, 121, 31))\n",
    "        self.Cholesterol.setObjectName(\"Cholesterol\")\n",
    "        self.FastingBS = QtWidgets.QLineEdit(self.widget_2)\n",
    "        self.FastingBS.setGeometry(QtCore.QRect(350, 180, 121, 31))\n",
    "        self.FastingBS.setObjectName(\"FastingBS\")\n",
    "        self.RestingECG = QtWidgets.QLineEdit(self.widget_2)\n",
    "        self.RestingECG.setGeometry(QtCore.QRect(350, 230, 121, 31))\n",
    "        self.RestingECG.setObjectName(\"RestingECG\")\n",
    "        self.MaxHR = QtWidgets.QLineEdit(self.widget_2)\n",
    "        self.MaxHR.setGeometry(QtCore.QRect(350, 280, 121, 31))\n",
    "        self.MaxHR.setObjectName(\"MaxHR\")\n",
    "        self.ChestPainType = QtWidgets.QLineEdit(self.widget_2)\n",
    "        self.ChestPainType.setGeometry(QtCore.QRect(350, 30, 121, 31))\n",
    "        self.ChestPainType.setObjectName(\"ChestPainType\")\n",
    "        self.ExerciseAngina = QtWidgets.QLineEdit(self.widget_2)\n",
    "        self.ExerciseAngina.setGeometry(QtCore.QRect(350, 330, 121, 31))\n",
    "        self.ExerciseAngina.setObjectName(\"ExerciseAngina\")\n",
    "        self.Oldpeak = QtWidgets.QLineEdit(self.widget_2)\n",
    "        self.Oldpeak.setGeometry(QtCore.QRect(350, 380, 121, 31))\n",
    "        self.Oldpeak.setObjectName(\"Oldpeak\")\n",
    "        self.ST_Slope = QtWidgets.QLineEdit(self.widget_2)\n",
    "        self.ST_Slope.setGeometry(QtCore.QRect(350, 430, 121, 31))\n",
    "        self.ST_Slope.setObjectName(\"ST_Slope\")\n",
    "        self.pushButton = QtWidgets.QPushButton(self.widget_2)\n",
    "        self.pushButton.setGeometry(QtCore.QRect(270, 497, 93, 31))\n",
    "        self.pushButton.setStyleSheet(\"QPushButton#pushButton{\\n\"\n",
    "\"background-color:rgb(255, 255, 127);\\n\"\n",
    "\"border-radius:500px;\\n\"\n",
    "\"color:rgb(255, 0, 0);\\n\"\n",
    "\"font: 87 8pt \\\"Segoe UI Black\\\";\\n\"\n",
    "\"}\")\n",
    "        self.pushButton.setObjectName(\"pushButton\")\n",
    "        self.label = QtWidgets.QLabel(self.widget)\n",
    "        self.label.setGeometry(QtCore.QRect(80, 20, 631, 81))\n",
    "        self.label.setStyleSheet(\"color:rgb(230, 57, 70);\\n\"\n",
    "\"font: 28pt \\\"MS Shell Dlg 2\\\";\")\n",
    "        self.label.setObjectName(\"label\")\n",
    "        self.HeartDisease = QtWidgets.QLabel(self.widget)\n",
    "        self.HeartDisease.setGeometry(QtCore.QRect(240, 720, 341, 51))\n",
    "        self.HeartDisease.setStyleSheet(\"font: 22pt \\\"MS Shell Dlg 2\\\";\\n\"\n",
    "\"color:rgb(255, 85, 0)\")\n",
    "        self.HeartDisease.setObjectName(\"HeartDisease\")\n",
    "        \n",
    "        self.pushButton.clicked.connect(self.heartFailure)\n",
    "\n",
    "        self.retranslateUi(Form)\n",
    "        QtCore.QMetaObject.connectSlotsByName(Form)\n",
    "        \n",
    "    def heartFailure(self):\n",
    "        ChestPainType = self.ChestPainType.text()\n",
    "        RestingBP = self.RestingBP.text()\n",
    "        Cholesterol = self.Cholesterol.text()\n",
    "        FastingBS = self.FastingBS.text()\n",
    "        RestingECG = self.RestingECG.text()\n",
    "        MaxHR = self.MaxHR.text()\n",
    "        ExerciseAngina = self.ExerciseAngina.text()\n",
    "        Oldpeak = self.Oldpeak.text()\n",
    "        ST_Slope = self.ST_Slope.text()\n",
    "        if ChestPainType.isnumeric() and RestingBP.isnumeric() and Cholesterol.isnumeric and FastingBS.isnumeric() and RestingECG.isnumeric() and MaxHR.isnumeric() and ExerciseAngina.isnumeric() and Oldpeak.isnumeric() and ST_Slope.isnumeric():\n",
    "            ChestPainType = int(ChestPainType)\n",
    "            RestingBP = int(RestingBP)\n",
    "            Cholesterol = int(Cholesterol)\n",
    "            FastingBS = int(FastingBS)\n",
    "            RestingECG = int(RestingECG)\n",
    "            MaxHR = int(MaxHR)\n",
    "            ExerciseAngina = int(ExerciseAngina)\n",
    "            Oldpeak = int(Oldpeak)\n",
    "            ST_Slope = int(ST_Slope)\n",
    "            res = model.predict(sc.transform([[ChestPainType, RestingBP, Cholesterol, FastingBS, RestingECG, MaxHR, ExerciseAngina, Oldpeak, ST_Slope]]))[0]\n",
    "            if res == 0:\n",
    "                self.HeartDisease.setText('Normal')\n",
    "            elif res == 1:\n",
    "                self.HeartDisease.setText('Heart Disease')\n",
    "\n",
    "\n",
    "    def retranslateUi(self, Form):\n",
    "        _translate = QtCore.QCoreApplication.translate\n",
    "        Form.setWindowTitle(_translate(\"Form\", \"Form\"))\n",
    "        self.label_2.setText(_translate(\"Form\", \"Chest Pain Type:\"))\n",
    "        self.label_3.setText(_translate(\"Form\", \"Resting BP:\"))\n",
    "        self.label_4.setText(_translate(\"Form\", \"Cholestrol:\"))\n",
    "        self.label_5.setText(_translate(\"Form\", \"Fasting BS:\"))\n",
    "        self.label_6.setText(_translate(\"Form\", \"Resting ECG:\"))\n",
    "        self.label_7.setText(_translate(\"Form\", \"Max HR:\"))\n",
    "        self.label_8.setText(_translate(\"Form\", \"Excersice Angina:\"))\n",
    "        self.label_9.setText(_translate(\"Form\", \"Old Peak:\"))\n",
    "        self.label_10.setText(_translate(\"Form\", \"ST Slope:\"))\n",
    "        self.pushButton.setText(_translate(\"Form\", \"Predict\"))\n",
    "        self.label.setText(_translate(\"Form\", \"<html><head/><body><p align=\\\"center\\\">Heart Failure Prediction</p></body></html>\"))\n",
    "        self.HeartDisease.setText(_translate(\"Form\", \"<html><head/><body><p align=\\\"center\\\"><br/></p></body></html>\"))\n",
    "\n",
    "\n",
    "if __name__ == \"__main__\":\n",
    "    import sys\n",
    "    app = QtWidgets.QApplication(sys.argv)\n",
    "    Form = QtWidgets.QWidget()\n",
    "    ui = Ui_Form()\n",
    "    ui.setupUi(Form)\n",
    "    Form.show()\n",
    "    sys.exit(app.exec_())\n",
    "\n"
   ]
  }
 ],
 "metadata": {
  "kernelspec": {
   "display_name": "Python 3.10.7 64-bit",
   "language": "python",
   "name": "python3"
  },
  "language_info": {
   "codemirror_mode": {
    "name": "ipython",
    "version": 3
   },
   "file_extension": ".py",
   "mimetype": "text/x-python",
   "name": "python",
   "nbconvert_exporter": "python",
   "pygments_lexer": "ipython3",
   "version": "3.10.7"
  },
  "vscode": {
   "interpreter": {
    "hash": "171297e6988badb5fc12d8ad1132fd3fbce21d89ce466d6887d0f58c05583363"
   }
  }
 },
 "nbformat": 4,
 "nbformat_minor": 5
}
